{
 "cells": [
  {
   "cell_type": "markdown",
   "metadata": {},
   "source": [
    "### Вспомогательный материал\n",
    "\n",
    "**Latex оформление математических формул в документе**\n",
    "\n",
    "https://oeis.org/wiki/List_of_LaTeX_mathematical_symbols\n",
    "\n",
    "https://www.math.ubc.ca/~pwalls/math-python/jupyter/latex/"
   ]
  },
  {
   "cell_type": "markdown",
   "metadata": {},
   "source": [
    "# Задание 1:\n",
    "Выполнить операции: $A \\cup B; A \\cap B; A \\setminus B; B \\setminus A; A \\times B; B \\times A$, где A и B\n",
    "\n",
    "* $A=\\{a,1,2\\};B=\\{a,b,1\\}$\n",
    "* $A=\\{2n-1 \\mid n \\in N\\}; B=\\{-1,0,1,2,3\\}$\n",
    "* $A=(-\\infty , 3); B=[-1, +\\infty)$"
   ]
  },
  {
   "cell_type": "code",
   "execution_count": null,
   "metadata": {},
   "outputs": [],
   "source": []
  },
  {
   "cell_type": "markdown",
   "metadata": {},
   "source": [
    "# Задание 2:\n",
    "Построить графики всех элементарных функций с данного сайта: http://mathprofi.ru/grafiki_i_svoistva_funkcij.html"
   ]
  },
  {
   "cell_type": "code",
   "execution_count": null,
   "metadata": {},
   "outputs": [],
   "source": []
  }
 ],
 "metadata": {
  "kernelspec": {
   "display_name": "Python 3",
   "language": "python",
   "name": "python3"
  },
  "language_info": {
   "codemirror_mode": {
    "name": "ipython",
    "version": 3
   },
   "file_extension": ".py",
   "mimetype": "text/x-python",
   "name": "python",
   "nbconvert_exporter": "python",
   "pygments_lexer": "ipython3",
   "version": "3.7.1"
  }
 },
 "nbformat": 4,
 "nbformat_minor": 2
}
