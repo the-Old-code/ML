{
 "cells": [
  {
   "cell_type": "markdown",
   "metadata": {},
   "source": [
    "# Вектора\n"
   ]
  },
  {
   "cell_type": "markdown",
   "metadata": {},
   "source": [
    "## Back to school\n",
    "\n",
    "В геометрии вектор — направленный отрезок прямой, то есть отрезок, для которого указано, какая из его граничных точек является началом, а какая — концом\n",
    "\n",
    "![alt](./vector.jpg \"Вектор\")"
   ]
  },
  {
   "cell_type": "markdown",
   "metadata": {},
   "source": [
    "## Линейная алгебра\n",
    "\n",
    "Вектор - математическая структура, которая представляет собой набор элементов, называемых векторами, для которых определены операции сложения друг с другом и умножения на число — скаляр\n",
    "\n",
    "$x=(2,3,4)$\n",
    "\n",
    "![alt](./space.jpg \"Вектор в пространстве\")"
   ]
  },
  {
   "cell_type": "code",
   "execution_count": 2,
   "metadata": {},
   "outputs": [
    {
     "name": "stdout",
     "output_type": "stream",
     "text": [
      "[2 3 4]\n"
     ]
    }
   ],
   "source": [
    "import numpy as np\n",
    "\n",
    "x = np.array([2,3,4])\n",
    "print(x)"
   ]
  },
  {
   "cell_type": "markdown",
   "metadata": {},
   "source": [
    "Размерность вектора количество \"компонент\" в этом векторе\n",
    "\n",
    "К примеру, если мы рассмотрим вектор мутаций в геноме, то его размерность может быть несколько сотен тысяч\n",
    "\n",
    "$mutations=(0,0,1,0,1,1,0,.....)$"
   ]
  },
  {
   "cell_type": "code",
   "execution_count": 3,
   "metadata": {},
   "outputs": [
    {
     "name": "stdout",
     "output_type": "stream",
     "text": [
      "(3,)\n"
     ]
    }
   ],
   "source": [
    "print(x.shape)"
   ]
  },
  {
   "cell_type": "markdown",
   "metadata": {},
   "source": [
    "## Векторное  пространство\n",
    "\n",
    "Векторное пространство - это множество векторов одной размерности, будем обозначать $\\mathbb{V}$, которое обладает следующими свойствами:\n",
    "* Заданы 2 замкнутые операции: сложение векторов и умножение вектора на скаляр(число)\n",
    "* $x+y = y+x,\\  \\forall x,y \\in \\mathbb{V}$\n",
    "* $x+(y+z)=(x+y)+z,\\ \\forall x,y,z \\in \\mathbb{V}$\n",
    "* $\\exists 0 \\in \\mathbb{V}: x+0=x,\\ \\forall x \\in \\mathbb{V}$\n",
    "* $\\forall x \\in \\mathbb{V}\\ \\exists -x \\in \\mathbb{V}: x+(-x)=0$\n",
    "* $\\alpha(\\beta x) = (\\alpha \\beta)x$\n",
    "* $1 x = x$\n",
    "* $(\\alpha + \\beta)x = \\alpha x + \\beta x$\n",
    "* $\\alpha (x+y)=\\alpha x + \\alpha y$\n",
    "\n",
    "В рамках курса будем говорить о евклидовых пространствах: $\\mathbb{R}^n$"
   ]
  },
  {
   "cell_type": "markdown",
   "metadata": {},
   "source": [
    "## Сложение векторов\n",
    "$a=(a_1, a_2, ..., a_n)$\n",
    "\n",
    "$b=(b_1, b_2, ..., b_n)$\n",
    "\n",
    "$a+b=(a_1+b_1, a_2+b_2, ..., a_n+b_n)$\n",
    "\n",
    "![alt](./sum.jpg \"Сложение векторов\")"
   ]
  },
  {
   "cell_type": "code",
   "execution_count": 4,
   "metadata": {},
   "outputs": [
    {
     "name": "stdout",
     "output_type": "stream",
     "text": [
      "[3 4 5]\n"
     ]
    }
   ],
   "source": [
    "x = np.array([2,3,4])\n",
    "y = np.array([1,1,1])\n",
    "\n",
    "print(x+y)"
   ]
  },
  {
   "cell_type": "markdown",
   "metadata": {},
   "source": [
    "## Умножение вектора на скаляр\n",
    "$a=(a_1,a_2,...,a_n)$\n",
    "\n",
    "$\\beta a=(\\beta a_1, \\beta a_2, ..., \\beta a_3)$\n",
    "\n",
    "![alt](./scalar.jpg \"Скалярное умножение\")"
   ]
  },
  {
   "cell_type": "code",
   "execution_count": 8,
   "metadata": {},
   "outputs": [
    {
     "name": "stdout",
     "output_type": "stream",
     "text": [
      "[4 6 8]\n"
     ]
    }
   ],
   "source": [
    "x = np.array([2,3,4])\n",
    "beta = 2\n",
    "print(beta*x)\n"
   ]
  },
  {
   "cell_type": "markdown",
   "metadata": {},
   "source": [
    "Интересный вывод: если вы возьмете выборку из m векторов, то можно найти средний вектор:\n",
    "\n",
    "$\\bar{x}=\\frac{1}{m}\\sum_{i=1}^{m}(x_1^i, x_2^i, ..., x_n^i)$"
   ]
  },
  {
   "cell_type": "markdown",
   "metadata": {},
   "source": [
    "## Линейная независимость - информация в векторах\n",
    "\n",
    "Пусть вектор x отображает информацию о тарифе пользователя:\n",
    "* Стоимость одной минуты\n",
    "* Стоимость одного SMS\n",
    "* Стоимость МБ данных\n",
    "* Стоимость ГБ данных\n",
    "* Расход за первый квартал\n",
    "* Расход за второй квартал\n",
    "* Расход за третий квартал\n",
    "* Расход за четвертый квартал\n",
    "* Расход за год\n",
    "\n",
    "$x_1 = (.3, .1, 0.01, 10.24, 300, 200, 100, 50, 650)$\n",
    "\n",
    "$x_2 = (.5, .7, 0.02, 20.48, 100, 200, 500, 0, 800)$\n",
    "\n",
    "$x_3 = (.1, .0, 0.1, 102.4, 900, 900, 900, 900, 3600)$\n",
    "\n",
    "**Линейная зависимость**:\n",
    "\n",
    "$\\beta_1 x_1 + \\beta_2 x_2 + .... + \\beta_3 x3 = 0$, где $\\exists \\beta \\neq 0$,\n",
    "\n",
    "**Линейная зависимость вектора**:\n",
    "\n",
    "$x_i = \\beta_1 x_1 + \\beta_2 x_2 + ... + \\beta_{i-1} x_{i-1} + \\beta_{i+1} x_{i+1} + ... + \\beta_n x_n$\n",
    "\n",
    "$dim V$ - максимальное число линейно независимых векторов в пространстве\n",
    "\n",
    "![alt](./basis.png \"Базис пространства\")\n",
    "\n",
    "$e_1=(1,0,0)\\ e_2=(0,1,0)\\ e_3=(0,0,1)$"
   ]
  },
  {
   "cell_type": "markdown",
   "metadata": {},
   "source": [
    "## Норма вектора\n",
    "\n",
    "$\\| x \\| = scalar$\n",
    "\n",
    "$\\| 0 \\| = 0$\n",
    "\n",
    "$\\| {x+y} \\| \\leq \\| x \\| + \\| y \\|$\n",
    "\n",
    "$\\| {\\alpha x} \\| = \\alpha \\| x \\|$\n",
    "\n",
    "Евклидова норма\n",
    "$\\| x_2 \\| = \\sqrt{\\sum_{i=1}^{2}x_i^2}$\n",
    "\n",
    "![alt](./norm.jpg \"Норма\")"
   ]
  },
  {
   "cell_type": "code",
   "execution_count": 10,
   "metadata": {},
   "outputs": [
    {
     "name": "stdout",
     "output_type": "stream",
     "text": [
      "5.0\n"
     ]
    }
   ],
   "source": [
    "from numpy.linalg import norm\n",
    "\n",
    "x = np.array([3,4])\n",
    "print(norm(x))"
   ]
  },
  {
   "cell_type": "markdown",
   "metadata": {},
   "source": [
    "# Метрика\n",
    "\n",
    "$\\rho(x,y) = \\| {x-y} \\|$"
   ]
  },
  {
   "cell_type": "code",
   "execution_count": 11,
   "metadata": {},
   "outputs": [
    {
     "name": "stdout",
     "output_type": "stream",
     "text": [
      "7.0\n"
     ]
    }
   ],
   "source": [
    "x = np.array([1,2,5])\n",
    "y = np.array([-2,0,11])\n",
    "\n",
    "print(norm(x-y))"
   ]
  },
  {
   "cell_type": "markdown",
   "metadata": {},
   "source": [
    "## Скалярное произведение векторов\n",
    "\n",
    "$x \\cdot y = \\sum_{i=1}^{n} x_i y_i$\n",
    "\n",
    "$\\| x \\| = \\sqrt{x \\cdot x}$\n",
    "\n",
    "$x \\cdot y = \\| x \\| \\| y \\| cos(x,y)$\n",
    "\n",
    "$cos(x,y) = \\frac{x \\cdot y}{\\| x \\| \\| y \\|}$\n",
    "\n",
    "$cos(x,y) = 1$ - вектора лежат на одной прямой\n",
    "\n",
    "$cos(x,y) = 0$ - ортоганальные вектора"
   ]
  },
  {
   "cell_type": "code",
   "execution_count": 21,
   "metadata": {},
   "outputs": [
    {
     "name": "stdout",
     "output_type": "stream",
     "text": [
      "0\n"
     ]
    }
   ],
   "source": [
    "x = np.array([1,0])\n",
    "y = np.array([0,1])\n",
    "\n",
    "print(np.dot(x,y))"
   ]
  },
  {
   "cell_type": "code",
   "execution_count": 23,
   "metadata": {},
   "outputs": [
    {
     "name": "stdout",
     "output_type": "stream",
     "text": [
      "Значение косинуса:  0.2460270707098335\n",
      "Значение угла в радианах:  1.322217135590574\n",
      "Значение угла в градусах:  75.7574614692168\n"
     ]
    }
   ],
   "source": [
    "x = np.array([12,-1])\n",
    "y = np.array([3.1,8.9999])\n",
    "\n",
    "cos_value = np.dot(x,y) / (norm(x) * norm(y))\n",
    "print('Значение косинуса: ', cos_value)\n",
    "print('Значение угла в радианах: ', np.arccos(cos_value))\n",
    "print('Значение угла в градусах: ', np.degrees(np.arccos(cos_value)))"
   ]
  },
  {
   "cell_type": "code",
   "execution_count": 19,
   "metadata": {},
   "outputs": [
    {
     "name": "stdout",
     "output_type": "stream",
     "text": [
      "X= [1 2 3]\n",
      "Shape= (3,)\n",
      "X= [[1 2 3]]\n",
      "Shape= (1, 3)\n"
     ]
    }
   ],
   "source": [
    "# PS - изменение размерности\n",
    "\n",
    "x = np.array([1,2,3])\n",
    "print('X=',x)\n",
    "print('Shape=',x.shape)\n",
    "\n",
    "x = x.reshape((1,3))\n",
    "print('X=', x)\n",
    "print('Shape=', x.shape)"
   ]
  },
  {
   "cell_type": "code",
   "execution_count": null,
   "metadata": {},
   "outputs": [],
   "source": []
  }
 ],
 "metadata": {
  "kernelspec": {
   "display_name": "Python 3",
   "language": "python",
   "name": "python3"
  },
  "language_info": {
   "codemirror_mode": {
    "name": "ipython",
    "version": 3
   },
   "file_extension": ".py",
   "mimetype": "text/x-python",
   "name": "python",
   "nbconvert_exporter": "python",
   "pygments_lexer": "ipython3",
   "version": "3.7.1"
  }
 },
 "nbformat": 4,
 "nbformat_minor": 2
}
