{
 "cells": [
  {
   "cell_type": "markdown",
   "metadata": {},
   "source": [
    "# Задания\n",
    "\n",
    "* $f(x)=x^3+3x^2-72x+1$ Найти производную первого порядка и нарисовать график\n",
    "* $f(x)=ln(2x-1)$ Найти производную 10 порядка и нарисовать график\n",
    "* $f(x,y)=x^2+y^2$ Найти производную по х, по y и нарисовать графики\n",
    "\n",
    "PS Видео решения дз не будет, смысла не вижу"
   ]
  },
  {
   "cell_type": "code",
   "execution_count": null,
   "metadata": {},
   "outputs": [],
   "source": []
  }
 ],
 "metadata": {
  "kernelspec": {
   "display_name": "Python 3",
   "language": "python",
   "name": "python3"
  },
  "language_info": {
   "codemirror_mode": {
    "name": "ipython",
    "version": 3
   },
   "file_extension": ".py",
   "mimetype": "text/x-python",
   "name": "python",
   "nbconvert_exporter": "python",
   "pygments_lexer": "ipython3",
   "version": "3.7.1"
  }
 },
 "nbformat": 4,
 "nbformat_minor": 2
}
